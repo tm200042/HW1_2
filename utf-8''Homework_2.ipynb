{
  "cells": [
    {
      "metadata": {
        "trusted": true
      },
      "cell_type": "code",
      "source": "'''\n    Import Data\n'''\n!curl https://raw.githubusercontent.com/tm200042/496_HW_2/master/X_iris_test.csv -o X_iris_test.csv\n!curl https://raw.githubusercontent.com/tm200042/496_HW_2/master/X_iris_train.csv -o X_iris_train.csv\n!curl https://raw.githubusercontent.com/tm200042/496_HW_2/master/y_iris_test.csv -o y_iris_test.csv \n!curl https://raw.githubusercontent.com/tm200042/496_HW_2/master/y_iris_train.csv -o y_iris_train.csv\nimport numpy as np #arry, matrix\nimport pandas as pd #data processing\nimport matplotlib.pyplot as plt \n%matplotlib inline\n\n\n'''\n    Read Data\n'''\ndef read_data(feature_file,label_file):\n    X_df = pd.read_csv(feature_file)\n    y_df = pd.read_csv(label_file)\n    #extract dta from the data frame\n    X = X_df.values\n    y = y_df.values \n    return X,y\n\nX_train, y_train = read_data('X_iris_train.csv', 'y_iris_train.csv')\nX_test, y_test = read_data('X_iris_test.csv', 'y_iris_test.csv')\n\n'''\n    Plot\n'''\ndef plot_digit(feature_vector): \n    plt.gray() \n    plt.matshow(feature_vector.reshape(2,2))\n    plt.show()\nplot_digit(X_train[7])\nprint(y_train[7])\n\n'''\n    normalize the features\n    Using normal distribution\n'''\ndef get_mean_variance(X):\n    mean = np.mean(X, axis=0) # axis=0: taking means along the\n    # vertical line (column)\n    # (sum(x_i-\\mu)^2)/N\n    X_temp = X - mean #\n    X_temp_entrypointwise = X_temp*X_temp\n    variance = np.mean(X_temp_entrypointwise, axis=0) #axis=0: \n    # taking means along the vertical line (column)\n    return mean, variance    \n    \ndef normalize_features(X_train, X_test):\n    mean, variance = get_mean_variance(X_train)\n    variance += 1e-15\n    ''' transform the feature '''\n    X_train_norm_O = (X_train - mean)/np.sqrt(variance)\n    #math.sqrt doesnot work for numpy\n    X_test_norm_O = (X_test - mean)/np.sqrt(variance)\n    return X_train_norm_O, X_test_norm_O\n\nX_train_norm, X_test_norm = normalize_features(X_train, X_test)\n\n\n'''\n    Add Bias\n'''\ndef add_column_one(X):\n    '''\n         convert X -> [1 X]\n    '''\n    # add  column of ones\n    ones = np.ones(X.shape[0])\n    ones = ones.reshape(-1, 1)\n    X_new = np.append(ones, X, axis=1)\n    return X_new\n\nX_train_norm_new = add_column_one(X_train_norm)\nX_test_norm_new = add_column_one(X_test_norm)\n\n'''\n    Predictor (sigmond function)\n'''\ndef predictor(X_0,c):\n    return 1.0/(1.0 + np.exp(-np.dot(X_0,c)))\n\n'''\n    Loss Function\n'''\ndef loss(X,Y,c):\n    '''Loss Function predictor(X,c)=y_pred'''\n    loss = np.sum(np.multiply(-Y,np.log(predictor(X,c)))-np.multiply(1 - Y, np.log(1 - predictor(X, c))))/float(X.shape[0])\n    return loss\n\n\n'''\n    Gradient Descent\n'''\ndef gradient_descent(X, Y, learning_rate, epochs):\n    loss_history = [0]*epochs\n    c_dim = X.shape[1]\n    n_samples = X.shape[0]\n    c = np.ones((c_dim, 1))\n    for i in range(epochs):\n        XT = X.T\n        gradient = 2.0*np.matmul( XT, predictor(X, c) - Y)\n        c = c -learning_rate*gradient\n        loss_history[i] = loss(X,Y, c)\n    return c, loss_history\n\ndef plot_loss(Loss):\n    import matplotlib  # import package\n    import matplotlib.pyplot as plt # import library pytlot and change its name to plt\n    %matplotlib inline  \n    plt.xlabel('# of epochs')\n    plt.ylabel('Loss')\n    plt.plot(Loss)\n    plt.show();  \n    \n    \ndef  one_hot_encoder(y_train):\n    y_max = np.max(y_train)\n    y_min = np.min(y_train)\n    n = y_max - y_min +1\n    yy = np.zeros((y_train.shape[0],n))\n    for i in range(y_train.shape[0]):\n        yy[i,y_train[i]]=1\n    return yy\n    \nY_train= one_hot_encoder(y_train)\nY_test  = one_hot_encoder(y_test)\n\n\n\n\n'''\n    Training\n'''\nc, loss_history = gradient_descent(X_train_norm_new, Y_train, 0.0001, 1000)\nprint(c)\nplot_loss(loss_history)\n\ndef one_hot_decoder(y_test):\n    y_test_real = y_test.argmax(axis = 1)\n    return y_test_real.reshape(-1,1)\n\ny_pred = predictor(X_test_norm_new, c)\nY_pred = one_hot_decoder(y_pred)\n'''\n    Accuracy\n'''\ndef accuracy(y_pred, y_exact):\n    p = np.array(y_pred == y_exact, dtype = int)\n    return np.sum(p)/float(len(y_exact))\n\nprint('Acuuracy of the model is %.3f' % accuracy(Y_pred, y_test))\n\n",
      "execution_count": 16,
      "outputs": [
        {
          "output_type": "stream",
          "text": "  % Total    % Received % Xferd  Average Speed   Time    Time     Time  Current\n                                 Dload  Upload   Total   Spent    Left  Speed\n100   717  100   717    0     0   6128      0 --:--:-- --:--:-- --:--:--  6128\n  % Total    % Received % Xferd  Average Speed   Time    Time     Time  Current\n                                 Dload  Upload   Total   Spent    Left  Speed\n100  1975  100  1975    0     0  22191      0 --:--:-- --:--:-- --:--:-- 22191\n  % Total    % Received % Xferd  Average Speed   Time    Time     Time  Current\n                                 Dload  Upload   Total   Spent    Left  Speed\n100   120  100   120    0     0   1348      0 --:--:-- --:--:-- --:--:--  1363\n  % Total    % Received % Xferd  Average Speed   Time    Time     Time  Current\n                                 Dload  Upload   Total   Spent    Left  Speed\n100   342  100   342    0     0   3420      0 --:--:-- --:--:-- --:--:--  3420\n",
          "name": "stdout"
        },
        {
          "output_type": "display_data",
          "data": {
            "text/plain": "<Figure size 432x288 with 0 Axes>"
          },
          "metadata": {}
        },
        {
          "output_type": "display_data",
          "data": {
            "image/png": "[encoded data removed]",
            "text/plain": "<Figure size 288x288 with 1 Axes>"
          },
          "metadata": {
            "needs_background": "light"
          }
        },
        {
          "output_type": "stream",
          "text": "[1]\n[[-0.84090916 -0.90753449 -1.31582609]\n [-0.88996388 -0.0639657   0.3850215 ]\n [ 1.7400348  -0.97926705  0.3524612 ]\n [-1.26182994  0.33442387  1.21818476]\n [-1.23210426 -0.27400303  1.58366938]]\n",
          "name": "stdout"
        },
        {
          "output_type": "display_data",
          "data": {
            "image/png": "[encoded data removed]",
            "text/plain": "<Figure size 432x288 with 1 Axes>"
          },
          "metadata": {
            "needs_background": "light"
          }
        },
        {
          "output_type": "stream",
          "text": "Acuuracy of the model is 0.763\n",
          "name": "stdout"
        }
      ]
    },
    {
      "metadata": {
        "trusted": true
      },
      "cell_type": "code",
      "source": "",
      "execution_count": null,
      "outputs": []
    },
    {
      "metadata": {
        "trusted": true
      },
      "cell_type": "code",
      "source": "",
      "execution_count": null,
      "outputs": []
    },
    {
      "metadata": {
        "trusted": true
      },
      "cell_type": "code",
      "source": "",
      "execution_count": null,
      "outputs": []
    },
    {
      "metadata": {
        "trusted": true
      },
      "cell_type": "code",
      "source": "",
      "execution_count": null,
      "outputs": []
    },
    {
      "metadata": {
        "trusted": true
      },
      "cell_type": "code",
      "source": "",
      "execution_count": null,
      "outputs": []
    },
    {
      "metadata": {
        "trusted": true
      },
      "cell_type": "code",
      "source": "",
      "execution_count": null,
      "outputs": []
    },
    {
      "metadata": {
        "trusted": true
      },
      "cell_type": "code",
      "source": "",
      "execution_count": null,
      "outputs": []
    },
    {
      "metadata": {
        "trusted": true
      },
      "cell_type": "code",
      "source": "",
      "execution_count": null,
      "outputs": []
    },
    {
      "metadata": {
        "trusted": true
      },
      "cell_type": "code",
      "source": "",
      "execution_count": null,
      "outputs": []
    },
    {
      "metadata": {
        "trusted": true
      },
      "cell_type": "code",
      "source": "",
      "execution_count": null,
      "outputs": []
    },
    {
      "metadata": {
        "trusted": true
      },
      "cell_type": "code",
      "source": "",
      "execution_count": null,
      "outputs": []
    },
    {
      "metadata": {
        "trusted": true
      },
      "cell_type": "code",
      "source": "",
      "execution_count": null,
      "outputs": []
    },
    {
      "metadata": {
        "trusted": true
      },
      "cell_type": "code",
      "source": "",
      "execution_count": null,
      "outputs": []
    },
    {
      "metadata": {
        "trusted": true
      },
      "cell_type": "code",
      "source": "",
      "execution_count": null,
      "outputs": []
    },
    {
      "metadata": {
        "trusted": true
      },
      "cell_type": "code",
      "source": "",
      "execution_count": null,
      "outputs": []
    },
    {
      "metadata": {
        "trusted": true
      },
      "cell_type": "code",
      "source": "",
      "execution_count": null,
      "outputs": []
    },
    {
      "metadata": {
        "trusted": true
      },
      "cell_type": "code",
      "source": "",
      "execution_count": null,
      "outputs": []
    },
    {
      "metadata": {
        "trusted": true
      },
      "cell_type": "code",
      "source": "",
      "execution_count": null,
      "outputs": []
    },
    {
      "metadata": {
        "trusted": true
      },
      "cell_type": "code",
      "source": "",
      "execution_count": null,
      "outputs": []
    },
    {
      "metadata": {
        "trusted": true
      },
      "cell_type": "code",
      "source": "",
      "execution_count": null,
      "outputs": []
    },
    {
      "metadata": {
        "trusted": true
      },
      "cell_type": "code",
      "source": "",
      "execution_count": null,
      "outputs": []
    },
    {
      "metadata": {
        "trusted": true
      },
      "cell_type": "code",
      "source": "",
      "execution_count": null,
      "outputs": []
    },
    {
      "metadata": {
        "trusted": true
      },
      "cell_type": "code",
      "source": "",
      "execution_count": null,
      "outputs": []
    },
    {
      "metadata": {
        "trusted": true
      },
      "cell_type": "code",
      "source": "",
      "execution_count": null,
      "outputs": []
    }
  ],
  "metadata": {
    "kernelspec": {
      "name": "python36",
      "display_name": "Python 3.6",
      "language": "python"
    },
    "language_info": {
      "mimetype": "text/x-python",
      "nbconvert_exporter": "python",
      "name": "python",
      "pygments_lexer": "ipython3",
      "version": "3.6.6",
      "file_extension": ".py",
      "codemirror_mode": {
        "version": 3,
        "name": "ipython"
      }
    }
  },
  "nbformat": 4,
  "nbformat_minor": 1
}